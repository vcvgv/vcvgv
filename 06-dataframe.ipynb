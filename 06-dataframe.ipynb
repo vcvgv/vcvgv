{
 "cells": [
  {
   "cell_type": "code",
   "execution_count": 19,
   "metadata": {},
   "outputs": [],
   "source": [
    "import pandas as pd\n",
    "gzmt=pd.read_csv(R'data\\600519.csv')"
   ]
  },
  {
   "cell_type": "code",
   "execution_count": 20,
   "metadata": {},
   "outputs": [
    {
     "name": "stdout",
     "output_type": "stream",
     "text": [
      "<class 'pandas.core.frame.DataFrame'>\n",
      "RangeIndex: 4094 entries, 0 to 4093\n",
      "Data columns (total 8 columns):\n",
      " #   Column      Non-Null Count  Dtype  \n",
      "---  ------      --------------  -----  \n",
      " 0   day         4094 non-null   object \n",
      " 1   STOCK_CODE  4094 non-null   int64  \n",
      " 2   open        4094 non-null   float64\n",
      " 3   close       4094 non-null   float64\n",
      " 4   maximum     4094 non-null   float64\n",
      " 5   minimum     4094 non-null   float64\n",
      " 6   volume      4094 non-null   int64  \n",
      " 7   TURNOVER    4094 non-null   int64  \n",
      "dtypes: float64(4), int64(3), object(1)\n",
      "memory usage: 256.0+ KB\n"
     ]
    }
   ],
   "source": [
    "gzmt.info()"
   ]
  },
  {
   "cell_type": "code",
   "execution_count": 21,
   "metadata": {},
   "outputs": [
    {
     "data": {
      "text/plain": [
       "<bound method NDFrame.describe of              day  STOCK_CODE    open   close  maximum  minimum  volume  \\\n",
       "0     2001-08-27     6005191   34.51   35.55    37.78    32.85  406318   \n",
       "1     2001-08-28     6005191   34.99   36.86    37.00    34.61  129647   \n",
       "2     2001-08-29     6005191   36.98   36.38    37.00    36.10   53252   \n",
       "3     2001-08-30     6005191   36.28   37.10    37.51    36.00   48013   \n",
       "4     2001-08-31     6005191   37.15   37.01    37.62    36.80   23231   \n",
       "...          ...         ...     ...     ...      ...      ...     ...   \n",
       "4089  2018-10-29     6005191  549.09  549.09   549.09   549.09   49076   \n",
       "4090  2018-10-30     6005191  510.00  524.00   543.00   509.02  204397   \n",
       "4091  2018-10-31     6005191  527.00  548.90   555.00   522.00   96885   \n",
       "4092  2018-11-01     6005191  555.00  563.00   585.50   551.25   98107   \n",
       "4093  2018-11-02     6005191  585.00  599.90   600.00   572.24   89157   \n",
       "\n",
       "         TURNOVER  \n",
       "0      1410347008  \n",
       "1       463463008  \n",
       "2       194689000  \n",
       "3       177558000  \n",
       "4        86231000  \n",
       "...           ...  \n",
       "4089   2694714080  \n",
       "4090  10663392512  \n",
       "4091   5239853056  \n",
       "4092   5581027328  \n",
       "4093   5227695104  \n",
       "\n",
       "[4094 rows x 8 columns]>"
      ]
     },
     "execution_count": 21,
     "metadata": {},
     "output_type": "execute_result"
    }
   ],
   "source": [
    "gzmt.describe"
   ]
  },
  {
   "cell_type": "code",
   "execution_count": 22,
   "metadata": {},
   "outputs": [
    {
     "data": {
      "text/html": [
       "<div>\n",
       "<style scoped>\n",
       "    .dataframe tbody tr th:only-of-type {\n",
       "        vertical-align: middle;\n",
       "    }\n",
       "\n",
       "    .dataframe tbody tr th {\n",
       "        vertical-align: top;\n",
       "    }\n",
       "\n",
       "    .dataframe thead th {\n",
       "        text-align: right;\n",
       "    }\n",
       "</style>\n",
       "<table border=\"1\" class=\"dataframe\">\n",
       "  <thead>\n",
       "    <tr style=\"text-align: right;\">\n",
       "      <th></th>\n",
       "      <th>open</th>\n",
       "      <th>close</th>\n",
       "    </tr>\n",
       "  </thead>\n",
       "  <tbody>\n",
       "    <tr>\n",
       "      <th>count</th>\n",
       "      <td>4094.000000</td>\n",
       "      <td>4094.000000</td>\n",
       "    </tr>\n",
       "    <tr>\n",
       "      <th>mean</th>\n",
       "      <td>182.161910</td>\n",
       "      <td>182.435230</td>\n",
       "    </tr>\n",
       "    <tr>\n",
       "      <th>std</th>\n",
       "      <td>165.857882</td>\n",
       "      <td>165.994905</td>\n",
       "    </tr>\n",
       "    <tr>\n",
       "      <th>min</th>\n",
       "      <td>20.900000</td>\n",
       "      <td>20.880000</td>\n",
       "    </tr>\n",
       "    <tr>\n",
       "      <th>25%</th>\n",
       "      <td>47.405000</td>\n",
       "      <td>47.482500</td>\n",
       "    </tr>\n",
       "    <tr>\n",
       "      <th>50%</th>\n",
       "      <td>159.930000</td>\n",
       "      <td>159.980000</td>\n",
       "    </tr>\n",
       "    <tr>\n",
       "      <th>75%</th>\n",
       "      <td>208.500000</td>\n",
       "      <td>209.457500</td>\n",
       "    </tr>\n",
       "    <tr>\n",
       "      <th>max</th>\n",
       "      <td>800.000000</td>\n",
       "      <td>799.190000</td>\n",
       "    </tr>\n",
       "  </tbody>\n",
       "</table>\n",
       "</div>"
      ],
      "text/plain": [
       "              open        close\n",
       "count  4094.000000  4094.000000\n",
       "mean    182.161910   182.435230\n",
       "std     165.857882   165.994905\n",
       "min      20.900000    20.880000\n",
       "25%      47.405000    47.482500\n",
       "50%     159.930000   159.980000\n",
       "75%     208.500000   209.457500\n",
       "max     800.000000   799.190000"
      ]
     },
     "execution_count": 22,
     "metadata": {},
     "output_type": "execute_result"
    }
   ],
   "source": [
    "gzmt[['open','close']].describe()"
   ]
  },
  {
   "cell_type": "code",
   "execution_count": 23,
   "metadata": {},
   "outputs": [
    {
     "data": {
      "text/plain": [
       "array([ 34.51,  34.99,  36.98, ..., 527.  , 555.  , 585.  ])"
      ]
     },
     "execution_count": 23,
     "metadata": {},
     "output_type": "execute_result"
    }
   ],
   "source": [
    "gzmt['open'].unique()"
   ]
  },
  {
   "cell_type": "code",
   "execution_count": 24,
   "metadata": {},
   "outputs": [],
   "source": [
    "result=gzmt['open'].unique()"
   ]
  },
  {
   "cell_type": "code",
   "execution_count": 25,
   "metadata": {},
   "outputs": [],
   "source": [
    "result2=gzmt.close.value_counts()"
   ]
  },
  {
   "cell_type": "code",
   "execution_count": 26,
   "metadata": {},
   "outputs": [
    {
     "data": {
      "text/plain": [
       "name\n",
       "A     4\n",
       "B     5\n",
       "C    12\n",
       "Name: value, dtype: int64"
      ]
     },
     "execution_count": 26,
     "metadata": {},
     "output_type": "execute_result"
    }
   ],
   "source": [
    "df=pd.DataFrame({\n",
    "    \"name\":[\"A\",\"B\",\"C\",\"B\",\"C\",\"A\",\"C\"],\n",
    "    \"value\":[1,3,7,2,4,3,1]\n",
    "})\n",
    "df.groupby(\"name\")[\"value\"].sum()"
   ]
  },
  {
   "cell_type": "code",
   "execution_count": 27,
   "metadata": {},
   "outputs": [],
   "source": [
    "data={'姓名':['张三','李四','王五','赵六','孙七'],\n",
    "      '年龄':[18,19,20,18,19],\n",
    "      '班级':['一班','一班','二班','二班','一班'],\n",
    "      '成绩':[97,88,78,92,88]}\n"
   ]
  }
 ],
 "metadata": {
  "kernelspec": {
   "display_name": "Python 3",
   "language": "python",
   "name": "python3"
  },
  "language_info": {
   "codemirror_mode": {
    "name": "ipython",
    "version": 3
   },
   "file_extension": ".py",
   "mimetype": "text/x-python",
   "name": "python",
   "nbconvert_exporter": "python",
   "pygments_lexer": "ipython3",
   "version": "3.8.10"
  }
 },
 "nbformat": 4,
 "nbformat_minor": 2
}
