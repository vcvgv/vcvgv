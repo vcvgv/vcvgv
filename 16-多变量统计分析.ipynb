{
 "cells": [
  {
   "cell_type": "code",
   "execution_count": 1,
   "metadata": {},
   "outputs": [],
   "source": [
    "import pandas as pd\n",
    "import mytools"
   ]
  },
  {
   "cell_type": "code",
   "execution_count": 2,
   "metadata": {},
   "outputs": [
    {
     "data": {
      "text/plain": [
       "Index(['问卷编号', '调查员', '民族', '政治面貌', '年级', '您觉得自己是个典型的中国人吗',\n",
       "       '与世界其他国家的人相比中国人有自己的特点吗', '为公民，最基本的要求是爱自己的国家', '不管是汉族还是少数民族，都是中华民族的一员',\n",
       "       '您是否为为中华民族的历史文化而骄傲', '个人的前途与命运是与中华民族的命运息息相关', '您是否了解中华民族的传统节日',\n",
       "       '您是否了解中国历史、地理、政治等', '老实说，您觉得中国怎么样', '您认为中国有多少值得自豪的地方',\n",
       "       '您认为世界有多少比例的人尊重中国', '对您而言作为一名中国人有多重要', '会以中国人自豪吗', '会隐瞒身份吗', '会打多少分',\n",
       "       '国歌升起', '世博会', '中国传统文化', '发展信心', '你会为中国运动员呐喊助威', '遇到灾难时中国人应该伸出援手',\n",
       "       '你愿意加入其他国籍吗', '中国人要为祖国统一奋斗吗'],\n",
       "      dtype='object')"
      ]
     },
     "execution_count": 2,
     "metadata": {},
     "output_type": "execute_result"
    }
   ],
   "source": [
    "数据表 = mytools.读取SPSS数据文件(R'data\\国家认同数据清理后.sav',True)\n",
    "数据表.columns"
   ]
  },
  {
   "cell_type": "code",
   "execution_count": 3,
   "metadata": {},
   "outputs": [
    {
     "data": {
      "text/html": [
       "<div>\n",
       "<style scoped>\n",
       "    .dataframe tbody tr th:only-of-type {\n",
       "        vertical-align: middle;\n",
       "    }\n",
       "\n",
       "    .dataframe tbody tr th {\n",
       "        vertical-align: top;\n",
       "    }\n",
       "\n",
       "    .dataframe thead th {\n",
       "        text-align: right;\n",
       "    }\n",
       "</style>\n",
       "<table border=\"1\" class=\"dataframe\">\n",
       "  <thead>\n",
       "    <tr style=\"text-align: right;\">\n",
       "      <th></th>\n",
       "      <th>政治面貌</th>\n",
       "      <th>团员</th>\n",
       "      <th>党员</th>\n",
       "      <th>群众</th>\n",
       "      <th>其他</th>\n",
       "      <th>All</th>\n",
       "    </tr>\n",
       "    <tr>\n",
       "      <th>年级</th>\n",
       "      <th>对您而言作为一名中国人有多重要</th>\n",
       "      <th></th>\n",
       "      <th></th>\n",
       "      <th></th>\n",
       "      <th></th>\n",
       "      <th></th>\n",
       "    </tr>\n",
       "  </thead>\n",
       "  <tbody>\n",
       "    <tr>\n",
       "      <th rowspan=\"4\" valign=\"top\">预科</th>\n",
       "      <th>毫不重要</th>\n",
       "      <td>0.001284</td>\n",
       "      <td>0.000000</td>\n",
       "      <td>0.000000</td>\n",
       "      <td>0.000000</td>\n",
       "      <td>0.001284</td>\n",
       "    </tr>\n",
       "    <tr>\n",
       "      <th>一般般</th>\n",
       "      <td>0.010270</td>\n",
       "      <td>0.000000</td>\n",
       "      <td>0.000000</td>\n",
       "      <td>0.000000</td>\n",
       "      <td>0.010270</td>\n",
       "    </tr>\n",
       "    <tr>\n",
       "      <th>比较重要</th>\n",
       "      <td>0.000000</td>\n",
       "      <td>0.000000</td>\n",
       "      <td>0.001284</td>\n",
       "      <td>0.000000</td>\n",
       "      <td>0.001284</td>\n",
       "    </tr>\n",
       "    <tr>\n",
       "      <th>十分重要</th>\n",
       "      <td>0.003851</td>\n",
       "      <td>0.000000</td>\n",
       "      <td>0.000000</td>\n",
       "      <td>0.000000</td>\n",
       "      <td>0.003851</td>\n",
       "    </tr>\n",
       "    <tr>\n",
       "      <th rowspan=\"5\" valign=\"top\">大一</th>\n",
       "      <th>毫不重要</th>\n",
       "      <td>0.001284</td>\n",
       "      <td>0.001284</td>\n",
       "      <td>0.000000</td>\n",
       "      <td>0.000000</td>\n",
       "      <td>0.002567</td>\n",
       "    </tr>\n",
       "    <tr>\n",
       "      <th>不太重要</th>\n",
       "      <td>0.006418</td>\n",
       "      <td>0.000000</td>\n",
       "      <td>0.002567</td>\n",
       "      <td>0.001284</td>\n",
       "      <td>0.010270</td>\n",
       "    </tr>\n",
       "    <tr>\n",
       "      <th>一般般</th>\n",
       "      <td>0.044929</td>\n",
       "      <td>0.001284</td>\n",
       "      <td>0.006418</td>\n",
       "      <td>0.000000</td>\n",
       "      <td>0.052632</td>\n",
       "    </tr>\n",
       "    <tr>\n",
       "      <th>比较重要</th>\n",
       "      <td>0.121951</td>\n",
       "      <td>0.008986</td>\n",
       "      <td>0.012837</td>\n",
       "      <td>0.001284</td>\n",
       "      <td>0.145058</td>\n",
       "    </tr>\n",
       "    <tr>\n",
       "      <th>十分重要</th>\n",
       "      <td>0.116816</td>\n",
       "      <td>0.003851</td>\n",
       "      <td>0.011553</td>\n",
       "      <td>0.001284</td>\n",
       "      <td>0.133504</td>\n",
       "    </tr>\n",
       "    <tr>\n",
       "      <th rowspan=\"5\" valign=\"top\">大二</th>\n",
       "      <th>毫不重要</th>\n",
       "      <td>0.001284</td>\n",
       "      <td>0.000000</td>\n",
       "      <td>0.000000</td>\n",
       "      <td>0.000000</td>\n",
       "      <td>0.001284</td>\n",
       "    </tr>\n",
       "    <tr>\n",
       "      <th>不太重要</th>\n",
       "      <td>0.011553</td>\n",
       "      <td>0.006418</td>\n",
       "      <td>0.002567</td>\n",
       "      <td>0.000000</td>\n",
       "      <td>0.020539</td>\n",
       "    </tr>\n",
       "    <tr>\n",
       "      <th>一般般</th>\n",
       "      <td>0.039795</td>\n",
       "      <td>0.007702</td>\n",
       "      <td>0.003851</td>\n",
       "      <td>0.002567</td>\n",
       "      <td>0.053915</td>\n",
       "    </tr>\n",
       "    <tr>\n",
       "      <th>比较重要</th>\n",
       "      <td>0.098845</td>\n",
       "      <td>0.008986</td>\n",
       "      <td>0.016688</td>\n",
       "      <td>0.002567</td>\n",
       "      <td>0.127086</td>\n",
       "    </tr>\n",
       "    <tr>\n",
       "      <th>十分重要</th>\n",
       "      <td>0.093710</td>\n",
       "      <td>0.011553</td>\n",
       "      <td>0.010270</td>\n",
       "      <td>0.001284</td>\n",
       "      <td>0.116816</td>\n",
       "    </tr>\n",
       "    <tr>\n",
       "      <th rowspan=\"5\" valign=\"top\">大三</th>\n",
       "      <th>毫不重要</th>\n",
       "      <td>0.001284</td>\n",
       "      <td>0.000000</td>\n",
       "      <td>0.000000</td>\n",
       "      <td>0.000000</td>\n",
       "      <td>0.001284</td>\n",
       "    </tr>\n",
       "    <tr>\n",
       "      <th>不太重要</th>\n",
       "      <td>0.003851</td>\n",
       "      <td>0.005135</td>\n",
       "      <td>0.000000</td>\n",
       "      <td>0.000000</td>\n",
       "      <td>0.008986</td>\n",
       "    </tr>\n",
       "    <tr>\n",
       "      <th>一般般</th>\n",
       "      <td>0.019255</td>\n",
       "      <td>0.012837</td>\n",
       "      <td>0.016688</td>\n",
       "      <td>0.002567</td>\n",
       "      <td>0.051348</td>\n",
       "    </tr>\n",
       "    <tr>\n",
       "      <th>比较重要</th>\n",
       "      <td>0.055199</td>\n",
       "      <td>0.020539</td>\n",
       "      <td>0.007702</td>\n",
       "      <td>0.001284</td>\n",
       "      <td>0.084724</td>\n",
       "    </tr>\n",
       "    <tr>\n",
       "      <th>十分重要</th>\n",
       "      <td>0.032092</td>\n",
       "      <td>0.017972</td>\n",
       "      <td>0.003851</td>\n",
       "      <td>0.006418</td>\n",
       "      <td>0.060334</td>\n",
       "    </tr>\n",
       "    <tr>\n",
       "      <th rowspan=\"5\" valign=\"top\">大四</th>\n",
       "      <th>毫不重要</th>\n",
       "      <td>0.001284</td>\n",
       "      <td>0.001284</td>\n",
       "      <td>0.000000</td>\n",
       "      <td>0.000000</td>\n",
       "      <td>0.002567</td>\n",
       "    </tr>\n",
       "    <tr>\n",
       "      <th>不太重要</th>\n",
       "      <td>0.005135</td>\n",
       "      <td>0.003851</td>\n",
       "      <td>0.002567</td>\n",
       "      <td>0.000000</td>\n",
       "      <td>0.011553</td>\n",
       "    </tr>\n",
       "    <tr>\n",
       "      <th>一般般</th>\n",
       "      <td>0.012837</td>\n",
       "      <td>0.002567</td>\n",
       "      <td>0.002567</td>\n",
       "      <td>0.000000</td>\n",
       "      <td>0.017972</td>\n",
       "    </tr>\n",
       "    <tr>\n",
       "      <th>比较重要</th>\n",
       "      <td>0.026958</td>\n",
       "      <td>0.007702</td>\n",
       "      <td>0.002567</td>\n",
       "      <td>0.000000</td>\n",
       "      <td>0.037227</td>\n",
       "    </tr>\n",
       "    <tr>\n",
       "      <th>十分重要</th>\n",
       "      <td>0.026958</td>\n",
       "      <td>0.010270</td>\n",
       "      <td>0.006418</td>\n",
       "      <td>0.000000</td>\n",
       "      <td>0.043646</td>\n",
       "    </tr>\n",
       "    <tr>\n",
       "      <th>All</th>\n",
       "      <th></th>\n",
       "      <td>0.736842</td>\n",
       "      <td>0.132221</td>\n",
       "      <td>0.110398</td>\n",
       "      <td>0.020539</td>\n",
       "      <td>1.000000</td>\n",
       "    </tr>\n",
       "  </tbody>\n",
       "</table>\n",
       "</div>"
      ],
      "text/plain": [
       "政治面貌                       团员        党员        群众        其他       All\n",
       "年级  对您而言作为一名中国人有多重要                                                  \n",
       "预科  毫不重要             0.001284  0.000000  0.000000  0.000000  0.001284\n",
       "    一般般              0.010270  0.000000  0.000000  0.000000  0.010270\n",
       "    比较重要             0.000000  0.000000  0.001284  0.000000  0.001284\n",
       "    十分重要             0.003851  0.000000  0.000000  0.000000  0.003851\n",
       "大一  毫不重要             0.001284  0.001284  0.000000  0.000000  0.002567\n",
       "    不太重要             0.006418  0.000000  0.002567  0.001284  0.010270\n",
       "    一般般              0.044929  0.001284  0.006418  0.000000  0.052632\n",
       "    比较重要             0.121951  0.008986  0.012837  0.001284  0.145058\n",
       "    十分重要             0.116816  0.003851  0.011553  0.001284  0.133504\n",
       "大二  毫不重要             0.001284  0.000000  0.000000  0.000000  0.001284\n",
       "    不太重要             0.011553  0.006418  0.002567  0.000000  0.020539\n",
       "    一般般              0.039795  0.007702  0.003851  0.002567  0.053915\n",
       "    比较重要             0.098845  0.008986  0.016688  0.002567  0.127086\n",
       "    十分重要             0.093710  0.011553  0.010270  0.001284  0.116816\n",
       "大三  毫不重要             0.001284  0.000000  0.000000  0.000000  0.001284\n",
       "    不太重要             0.003851  0.005135  0.000000  0.000000  0.008986\n",
       "    一般般              0.019255  0.012837  0.016688  0.002567  0.051348\n",
       "    比较重要             0.055199  0.020539  0.007702  0.001284  0.084724\n",
       "    十分重要             0.032092  0.017972  0.003851  0.006418  0.060334\n",
       "大四  毫不重要             0.001284  0.001284  0.000000  0.000000  0.002567\n",
       "    不太重要             0.005135  0.003851  0.002567  0.000000  0.011553\n",
       "    一般般              0.012837  0.002567  0.002567  0.000000  0.017972\n",
       "    比较重要             0.026958  0.007702  0.002567  0.000000  0.037227\n",
       "    十分重要             0.026958  0.010270  0.006418  0.000000  0.043646\n",
       "All                  0.736842  0.132221  0.110398  0.020539  1.000000"
      ]
     },
     "execution_count": 3,
     "metadata": {},
     "output_type": "execute_result"
    }
   ],
   "source": [
    "# 创建民族、年级和政治面貌的交互表\n",
    "cross_tab = pd.crosstab(index=[数据表['年级'], 数据表['对您而言作为一名中国人有多重要']], \n",
    "                        columns=数据表['政治面貌'], \n",
    "                        margins=True, normalize=True)  # All 行和列的总和\n",
    "\n",
    "cross_tab"
   ]
  },
  {
   "cell_type": "code",
   "execution_count": 4,
   "metadata": {},
   "outputs": [
    {
     "data": {
      "text/plain": [
       "(13.071170562605651, 0.36388900184411954, 12)"
      ]
     },
     "execution_count": 4,
     "metadata": {},
     "output_type": "execute_result"
    }
   ],
   "source": [
    "from scipy import stats\n",
    "# 假设我们关注的是第二年级的学生（假设年级用数字“2”表示）\n",
    "specific_grade = '大二'\n",
    "\n",
    "# 筛选出特定年级的数据\n",
    "df_specific_grade = 数据表[数据表['年级'] == specific_grade]\n",
    "\n",
    "# 创建会打多少分和政治面貌的交互表\n",
    "cross_tab_specific_grade = pd.crosstab(df_specific_grade['对您而言作为一名中国人有多重要'], df_specific_grade['政治面貌'])\n",
    "\n",
    "# 进行卡方检验\n",
    "chi2_grade, p_grade, dof_grade, expected_grade = stats.chi2_contingency(cross_tab_specific_grade)\n",
    "\n",
    "chi2_grade, p_grade, dof_grade, "
   ]
  },
  {
   "cell_type": "code",
   "execution_count": 5,
   "metadata": {},
   "outputs": [
    {
     "name": "stdout",
     "output_type": "stream",
     "text": [
      "tau_y系数: 0.0119 极弱相关或无相关\n",
      "对您而言作为一名中国人有多重要      毫不重要      不太重要       一般般      比较重要      十分重要       All\n",
      "政治面貌                                                                       \n",
      "团员               0.004016  0.036145  0.124498  0.309237  0.293173  0.767068\n",
      "党员               0.000000  0.020080  0.024096  0.028112  0.036145  0.108434\n",
      "群众               0.000000  0.008032  0.012048  0.052209  0.032129  0.104418\n",
      "其他               0.000000  0.000000  0.008032  0.008032  0.004016  0.020080\n",
      "All              0.004016  0.064257  0.168675  0.397590  0.365462  1.000000\n",
      "卡方值： 13.07, p值： 0.3639,自由度:12。\n",
      "接受虚无假设\n"
     ]
    }
   ],
   "source": [
    "mytools.两个无序类别变量的统计分析(df_specific_grade,'政治面貌','对您而言作为一名中国人有多重要')"
   ]
  },
  {
   "cell_type": "code",
   "execution_count": 6,
   "metadata": {},
   "outputs": [
    {
     "data": {
      "application/vnd.plotly.v1+json": {
       "config": {
        "plotlyServerURL": "https://plot.ly"
       },
       "data": [
        {
         "domain": {
          "x": [
           0,
           1
          ],
          "y": [
           0,
           1
          ]
         },
         "hovertemplate": "政治面貌=%{label}<extra></extra>",
         "labels": [
          "团员",
          "团员",
          "团员",
          "团员",
          "团员",
          "群众",
          "团员",
          "群众",
          "群众",
          "团员",
          "群众",
          "团员",
          "团员",
          "团员",
          "团员",
          "党员",
          "团员",
          "团员",
          "团员",
          "团员",
          "团员",
          "党员",
          "团员",
          "党员",
          "党员",
          "党员",
          "群众",
          "团员",
          "党员",
          "团员",
          "党员",
          "团员",
          "党员",
          "团员",
          "党员",
          "团员",
          "团员",
          "团员",
          "党员",
          "团员",
          "团员",
          "团员",
          "群众",
          "团员",
          "团员",
          "团员",
          "团员",
          "团员",
          "团员",
          "团员",
          "团员",
          "团员",
          "团员",
          "团员",
          "团员",
          "党员",
          "党员",
          "团员",
          "团员",
          "群众",
          "团员",
          "团员",
          "团员",
          "团员",
          "团员",
          "团员",
          "团员",
          "团员",
          "团员",
          "团员",
          "团员",
          "团员",
          "党员",
          "群众",
          "团员",
          "党员",
          "团员",
          "团员",
          "团员",
          "团员",
          "团员",
          "团员",
          "团员",
          "团员",
          "群众",
          "其他",
          "群众",
          "团员",
          "团员",
          "团员",
          "群众",
          "党员",
          "团员",
          "其他",
          "团员",
          "团员",
          "团员",
          "团员",
          "团员",
          "团员",
          "团员",
          "党员",
          "团员",
          "群众",
          "党员",
          "团员",
          "团员",
          "党员",
          "群众",
          "群众",
          "群众",
          "党员",
          "团员",
          "团员",
          "团员",
          "党员",
          "团员",
          "团员",
          "团员",
          "团员",
          "群众",
          "团员",
          "团员",
          "团员",
          "团员",
          "团员",
          "团员",
          "团员",
          "团员",
          "群众",
          "团员",
          "团员",
          "团员",
          "其他",
          "团员",
          "团员",
          "团员",
          "团员",
          "团员",
          "团员",
          "团员",
          "团员",
          "团员",
          "团员",
          "团员",
          "党员",
          "其他",
          "团员",
          "团员",
          "团员",
          "团员",
          "团员",
          "团员",
          "团员",
          "团员",
          "团员",
          "团员",
          "团员",
          "团员",
          "团员",
          "团员",
          "团员",
          "团员",
          "团员",
          "团员",
          "团员",
          "团员",
          "团员",
          "团员",
          "群众",
          "团员",
          "团员",
          "团员",
          "团员",
          "团员",
          "团员",
          "团员",
          "团员",
          "团员",
          "团员",
          "团员",
          "团员",
          "团员",
          "团员",
          "团员",
          "党员",
          "团员",
          "团员",
          "党员",
          "团员",
          "群众",
          "团员",
          "团员",
          "团员",
          "团员",
          "群众",
          "团员",
          "团员",
          "团员",
          "团员",
          "团员",
          "群众",
          "团员",
          "团员",
          "党员",
          "团员",
          "团员",
          "团员",
          "团员",
          "群众",
          "团员",
          "团员",
          "团员",
          "团员",
          "团员",
          "团员",
          "团员",
          "团员",
          "团员",
          "其他",
          "团员",
          "党员",
          "团员",
          "团员",
          "党员",
          "团员",
          "团员",
          "团员",
          "团员",
          "党员",
          "团员",
          "团员",
          "团员",
          "群众",
          "团员",
          "群众",
          "群众",
          "团员",
          "团员",
          "团员",
          "团员",
          "团员",
          "群众",
          "团员",
          "团员",
          "团员",
          "团员",
          "团员",
          "团员"
         ],
         "legendgroup": "",
         "name": "",
         "showlegend": true,
         "type": "pie"
        }
       ],
       "layout": {
        "legend": {
         "tracegroupgap": 0
        },
        "margin": {
         "t": 60
        },
        "template": {
         "data": {
          "bar": [
           {
            "error_x": {
             "color": "#2a3f5f"
            },
            "error_y": {
             "color": "#2a3f5f"
            },
            "marker": {
             "line": {
              "color": "#E5ECF6",
              "width": 0.5
             },
             "pattern": {
              "fillmode": "overlay",
              "size": 10,
              "solidity": 0.2
             }
            },
            "type": "bar"
           }
          ],
          "barpolar": [
           {
            "marker": {
             "line": {
              "color": "#E5ECF6",
              "width": 0.5
             },
             "pattern": {
              "fillmode": "overlay",
              "size": 10,
              "solidity": 0.2
             }
            },
            "type": "barpolar"
           }
          ],
          "carpet": [
           {
            "aaxis": {
             "endlinecolor": "#2a3f5f",
             "gridcolor": "white",
             "linecolor": "white",
             "minorgridcolor": "white",
             "startlinecolor": "#2a3f5f"
            },
            "baxis": {
             "endlinecolor": "#2a3f5f",
             "gridcolor": "white",
             "linecolor": "white",
             "minorgridcolor": "white",
             "startlinecolor": "#2a3f5f"
            },
            "type": "carpet"
           }
          ],
          "choropleth": [
           {
            "colorbar": {
             "outlinewidth": 0,
             "ticks": ""
            },
            "type": "choropleth"
           }
          ],
          "contour": [
           {
            "colorbar": {
             "outlinewidth": 0,
             "ticks": ""
            },
            "colorscale": [
             [
              0,
              "#0d0887"
             ],
             [
              0.1111111111111111,
              "#46039f"
             ],
             [
              0.2222222222222222,
              "#7201a8"
             ],
             [
              0.3333333333333333,
              "#9c179e"
             ],
             [
              0.4444444444444444,
              "#bd3786"
             ],
             [
              0.5555555555555556,
              "#d8576b"
             ],
             [
              0.6666666666666666,
              "#ed7953"
             ],
             [
              0.7777777777777778,
              "#fb9f3a"
             ],
             [
              0.8888888888888888,
              "#fdca26"
             ],
             [
              1,
              "#f0f921"
             ]
            ],
            "type": "contour"
           }
          ],
          "contourcarpet": [
           {
            "colorbar": {
             "outlinewidth": 0,
             "ticks": ""
            },
            "type": "contourcarpet"
           }
          ],
          "heatmap": [
           {
            "colorbar": {
             "outlinewidth": 0,
             "ticks": ""
            },
            "colorscale": [
             [
              0,
              "#0d0887"
             ],
             [
              0.1111111111111111,
              "#46039f"
             ],
             [
              0.2222222222222222,
              "#7201a8"
             ],
             [
              0.3333333333333333,
              "#9c179e"
             ],
             [
              0.4444444444444444,
              "#bd3786"
             ],
             [
              0.5555555555555556,
              "#d8576b"
             ],
             [
              0.6666666666666666,
              "#ed7953"
             ],
             [
              0.7777777777777778,
              "#fb9f3a"
             ],
             [
              0.8888888888888888,
              "#fdca26"
             ],
             [
              1,
              "#f0f921"
             ]
            ],
            "type": "heatmap"
           }
          ],
          "heatmapgl": [
           {
            "colorbar": {
             "outlinewidth": 0,
             "ticks": ""
            },
            "colorscale": [
             [
              0,
              "#0d0887"
             ],
             [
              0.1111111111111111,
              "#46039f"
             ],
             [
              0.2222222222222222,
              "#7201a8"
             ],
             [
              0.3333333333333333,
              "#9c179e"
             ],
             [
              0.4444444444444444,
              "#bd3786"
             ],
             [
              0.5555555555555556,
              "#d8576b"
             ],
             [
              0.6666666666666666,
              "#ed7953"
             ],
             [
              0.7777777777777778,
              "#fb9f3a"
             ],
             [
              0.8888888888888888,
              "#fdca26"
             ],
             [
              1,
              "#f0f921"
             ]
            ],
            "type": "heatmapgl"
           }
          ],
          "histogram": [
           {
            "marker": {
             "pattern": {
              "fillmode": "overlay",
              "size": 10,
              "solidity": 0.2
             }
            },
            "type": "histogram"
           }
          ],
          "histogram2d": [
           {
            "colorbar": {
             "outlinewidth": 0,
             "ticks": ""
            },
            "colorscale": [
             [
              0,
              "#0d0887"
             ],
             [
              0.1111111111111111,
              "#46039f"
             ],
             [
              0.2222222222222222,
              "#7201a8"
             ],
             [
              0.3333333333333333,
              "#9c179e"
             ],
             [
              0.4444444444444444,
              "#bd3786"
             ],
             [
              0.5555555555555556,
              "#d8576b"
             ],
             [
              0.6666666666666666,
              "#ed7953"
             ],
             [
              0.7777777777777778,
              "#fb9f3a"
             ],
             [
              0.8888888888888888,
              "#fdca26"
             ],
             [
              1,
              "#f0f921"
             ]
            ],
            "type": "histogram2d"
           }
          ],
          "histogram2dcontour": [
           {
            "colorbar": {
             "outlinewidth": 0,
             "ticks": ""
            },
            "colorscale": [
             [
              0,
              "#0d0887"
             ],
             [
              0.1111111111111111,
              "#46039f"
             ],
             [
              0.2222222222222222,
              "#7201a8"
             ],
             [
              0.3333333333333333,
              "#9c179e"
             ],
             [
              0.4444444444444444,
              "#bd3786"
             ],
             [
              0.5555555555555556,
              "#d8576b"
             ],
             [
              0.6666666666666666,
              "#ed7953"
             ],
             [
              0.7777777777777778,
              "#fb9f3a"
             ],
             [
              0.8888888888888888,
              "#fdca26"
             ],
             [
              1,
              "#f0f921"
             ]
            ],
            "type": "histogram2dcontour"
           }
          ],
          "mesh3d": [
           {
            "colorbar": {
             "outlinewidth": 0,
             "ticks": ""
            },
            "type": "mesh3d"
           }
          ],
          "parcoords": [
           {
            "line": {
             "colorbar": {
              "outlinewidth": 0,
              "ticks": ""
             }
            },
            "type": "parcoords"
           }
          ],
          "pie": [
           {
            "automargin": true,
            "type": "pie"
           }
          ],
          "scatter": [
           {
            "fillpattern": {
             "fillmode": "overlay",
             "size": 10,
             "solidity": 0.2
            },
            "type": "scatter"
           }
          ],
          "scatter3d": [
           {
            "line": {
             "colorbar": {
              "outlinewidth": 0,
              "ticks": ""
             }
            },
            "marker": {
             "colorbar": {
              "outlinewidth": 0,
              "ticks": ""
             }
            },
            "type": "scatter3d"
           }
          ],
          "scattercarpet": [
           {
            "marker": {
             "colorbar": {
              "outlinewidth": 0,
              "ticks": ""
             }
            },
            "type": "scattercarpet"
           }
          ],
          "scattergeo": [
           {
            "marker": {
             "colorbar": {
              "outlinewidth": 0,
              "ticks": ""
             }
            },
            "type": "scattergeo"
           }
          ],
          "scattergl": [
           {
            "marker": {
             "colorbar": {
              "outlinewidth": 0,
              "ticks": ""
             }
            },
            "type": "scattergl"
           }
          ],
          "scattermapbox": [
           {
            "marker": {
             "colorbar": {
              "outlinewidth": 0,
              "ticks": ""
             }
            },
            "type": "scattermapbox"
           }
          ],
          "scatterpolar": [
           {
            "marker": {
             "colorbar": {
              "outlinewidth": 0,
              "ticks": ""
             }
            },
            "type": "scatterpolar"
           }
          ],
          "scatterpolargl": [
           {
            "marker": {
             "colorbar": {
              "outlinewidth": 0,
              "ticks": ""
             }
            },
            "type": "scatterpolargl"
           }
          ],
          "scatterternary": [
           {
            "marker": {
             "colorbar": {
              "outlinewidth": 0,
              "ticks": ""
             }
            },
            "type": "scatterternary"
           }
          ],
          "surface": [
           {
            "colorbar": {
             "outlinewidth": 0,
             "ticks": ""
            },
            "colorscale": [
             [
              0,
              "#0d0887"
             ],
             [
              0.1111111111111111,
              "#46039f"
             ],
             [
              0.2222222222222222,
              "#7201a8"
             ],
             [
              0.3333333333333333,
              "#9c179e"
             ],
             [
              0.4444444444444444,
              "#bd3786"
             ],
             [
              0.5555555555555556,
              "#d8576b"
             ],
             [
              0.6666666666666666,
              "#ed7953"
             ],
             [
              0.7777777777777778,
              "#fb9f3a"
             ],
             [
              0.8888888888888888,
              "#fdca26"
             ],
             [
              1,
              "#f0f921"
             ]
            ],
            "type": "surface"
           }
          ],
          "table": [
           {
            "cells": {
             "fill": {
              "color": "#EBF0F8"
             },
             "line": {
              "color": "white"
             }
            },
            "header": {
             "fill": {
              "color": "#C8D4E3"
             },
             "line": {
              "color": "white"
             }
            },
            "type": "table"
           }
          ]
         },
         "layout": {
          "annotationdefaults": {
           "arrowcolor": "#2a3f5f",
           "arrowhead": 0,
           "arrowwidth": 1
          },
          "autotypenumbers": "strict",
          "coloraxis": {
           "colorbar": {
            "outlinewidth": 0,
            "ticks": ""
           }
          },
          "colorscale": {
           "diverging": [
            [
             0,
             "#8e0152"
            ],
            [
             0.1,
             "#c51b7d"
            ],
            [
             0.2,
             "#de77ae"
            ],
            [
             0.3,
             "#f1b6da"
            ],
            [
             0.4,
             "#fde0ef"
            ],
            [
             0.5,
             "#f7f7f7"
            ],
            [
             0.6,
             "#e6f5d0"
            ],
            [
             0.7,
             "#b8e186"
            ],
            [
             0.8,
             "#7fbc41"
            ],
            [
             0.9,
             "#4d9221"
            ],
            [
             1,
             "#276419"
            ]
           ],
           "sequential": [
            [
             0,
             "#0d0887"
            ],
            [
             0.1111111111111111,
             "#46039f"
            ],
            [
             0.2222222222222222,
             "#7201a8"
            ],
            [
             0.3333333333333333,
             "#9c179e"
            ],
            [
             0.4444444444444444,
             "#bd3786"
            ],
            [
             0.5555555555555556,
             "#d8576b"
            ],
            [
             0.6666666666666666,
             "#ed7953"
            ],
            [
             0.7777777777777778,
             "#fb9f3a"
            ],
            [
             0.8888888888888888,
             "#fdca26"
            ],
            [
             1,
             "#f0f921"
            ]
           ],
           "sequentialminus": [
            [
             0,
             "#0d0887"
            ],
            [
             0.1111111111111111,
             "#46039f"
            ],
            [
             0.2222222222222222,
             "#7201a8"
            ],
            [
             0.3333333333333333,
             "#9c179e"
            ],
            [
             0.4444444444444444,
             "#bd3786"
            ],
            [
             0.5555555555555556,
             "#d8576b"
            ],
            [
             0.6666666666666666,
             "#ed7953"
            ],
            [
             0.7777777777777778,
             "#fb9f3a"
            ],
            [
             0.8888888888888888,
             "#fdca26"
            ],
            [
             1,
             "#f0f921"
            ]
           ]
          },
          "colorway": [
           "#636efa",
           "#EF553B",
           "#00cc96",
           "#ab63fa",
           "#FFA15A",
           "#19d3f3",
           "#FF6692",
           "#B6E880",
           "#FF97FF",
           "#FECB52"
          ],
          "font": {
           "color": "#2a3f5f"
          },
          "geo": {
           "bgcolor": "white",
           "lakecolor": "white",
           "landcolor": "#E5ECF6",
           "showlakes": true,
           "showland": true,
           "subunitcolor": "white"
          },
          "hoverlabel": {
           "align": "left"
          },
          "hovermode": "closest",
          "mapbox": {
           "style": "light"
          },
          "paper_bgcolor": "white",
          "plot_bgcolor": "#E5ECF6",
          "polar": {
           "angularaxis": {
            "gridcolor": "white",
            "linecolor": "white",
            "ticks": ""
           },
           "bgcolor": "#E5ECF6",
           "radialaxis": {
            "gridcolor": "white",
            "linecolor": "white",
            "ticks": ""
           }
          },
          "scene": {
           "xaxis": {
            "backgroundcolor": "#E5ECF6",
            "gridcolor": "white",
            "gridwidth": 2,
            "linecolor": "white",
            "showbackground": true,
            "ticks": "",
            "zerolinecolor": "white"
           },
           "yaxis": {
            "backgroundcolor": "#E5ECF6",
            "gridcolor": "white",
            "gridwidth": 2,
            "linecolor": "white",
            "showbackground": true,
            "ticks": "",
            "zerolinecolor": "white"
           },
           "zaxis": {
            "backgroundcolor": "#E5ECF6",
            "gridcolor": "white",
            "gridwidth": 2,
            "linecolor": "white",
            "showbackground": true,
            "ticks": "",
            "zerolinecolor": "white"
           }
          },
          "shapedefaults": {
           "line": {
            "color": "#2a3f5f"
           }
          },
          "ternary": {
           "aaxis": {
            "gridcolor": "white",
            "linecolor": "white",
            "ticks": ""
           },
           "baxis": {
            "gridcolor": "white",
            "linecolor": "white",
            "ticks": ""
           },
           "bgcolor": "#E5ECF6",
           "caxis": {
            "gridcolor": "white",
            "linecolor": "white",
            "ticks": ""
           }
          },
          "title": {
           "x": 0.05
          },
          "xaxis": {
           "automargin": true,
           "gridcolor": "white",
           "linecolor": "white",
           "ticks": "",
           "title": {
            "standoff": 15
           },
           "zerolinecolor": "white",
           "zerolinewidth": 2
          },
          "yaxis": {
           "automargin": true,
           "gridcolor": "white",
           "linecolor": "white",
           "ticks": "",
           "title": {
            "standoff": 15
           },
           "zerolinecolor": "white",
           "zerolinewidth": 2
          }
         }
        }
       }
      }
     },
     "metadata": {},
     "output_type": "display_data"
    }
   ],
   "source": [
    "import plotly.express as px\n",
    "fig = px.pie(df_specific_grade, names=\"政治面貌\")\n",
    "fig.show()"
   ]
  }
 ],
 "metadata": {
  "kernelspec": {
   "display_name": "Python 3",
   "language": "python",
   "name": "python3"
  },
  "language_info": {
   "codemirror_mode": {
    "name": "ipython",
    "version": 3
   },
   "file_extension": ".py",
   "mimetype": "text/x-python",
   "name": "python",
   "nbconvert_exporter": "python",
   "pygments_lexer": "ipython3",
   "version": "3.8.10"
  }
 },
 "nbformat": 4,
 "nbformat_minor": 2
}
