{
 "cells": [
  {
   "cell_type": "code",
   "execution_count": 1,
   "metadata": {},
   "outputs": [
    {
     "name": "stdout",
     "output_type": "stream",
     "text": [
      "找到指定姓名同学的GitHub地址：https://github.com/lisi\n"
     ]
    }
   ],
   "source": [
    "students = [  \n",
    "    {  \n",
    "        \"姓名\": \"张三\",  \n",
    "        \"学号\": \"20230501\",  \n",
    "        \"GitHub仓库地址\": \"https://github.com/zhangsan\"  \n",
    "    },  \n",
    "    {  \n",
    "        \"姓名\": \"李四\",  \n",
    "        \"学号\": \"20230502\",  \n",
    "        \"GitHub仓库地址\": \"https://github.com/lisi\"  \n",
    "    },  \n",
    "    {  \n",
    "        \"姓名\": \"王五\",  \n",
    "        \"学号\": \"20230503\",  \n",
    "        \"GitHub仓库地址\": \"https://github.com/wangwu\"  \n",
    "    }  \n",
    "]  \n",
    "  \n",
    "target_name = \"李四\"  # 指定姓名  \n",
    "  \n",
    "for student in students:  \n",
    "    if student[\"姓名\"] == target_name:  \n",
    "        print(f\"找到指定姓名同学的GitHub地址：{student['GitHub仓库地址']}\")  \n",
    "        break  # 找到匹配项后退出循环  \n",
    "else:  # 如果没有找到匹配项，执行下面的代码块  \n",
    "    print(f\"没有找到指定姓名同学的信息\")"
   ]
  },
  {
   "cell_type": "code",
   "execution_count": 8,
   "metadata": {},
   "outputs": [],
   "source": [
    "def get_repo_by_name(name,data):\n",
    "    for i in data:\n",
    "        if i['姓名'] == name:\n",
    "            print(i[\"GitHub仓库地址\"])\n"
   ]
  },
  {
   "cell_type": "code",
   "execution_count": 9,
   "metadata": {},
   "outputs": [
    {
     "name": "stdout",
     "output_type": "stream",
     "text": [
      "https://github.com/lisi\n"
     ]
    }
   ],
   "source": [
    "get_repo_by_name(name=\"李四\", data=studens's'sts)"
   ]
  },
  {
   "cell_type": "code",
   "execution_count": 8,
   "metadata": {},
   "outputs": [],
   "source": [
    "def 函数名称(参数1,参数2):\n",
    "    print(参数1,参数2)"
   ]
  },
  {
   "cell_type": "code",
   "execution_count": 9,
   "metadata": {},
   "outputs": [
    {
     "name": "stdout",
     "output_type": "stream",
     "text": [
      "1 2\n"
     ]
    }
   ],
   "source": [
    "函数名称(1,2)"
   ]
  },
  {
   "cell_type": "markdown",
   "metadata": {},
   "source": []
  }
 ],
 "metadata": {
  "kernelspec": {
   "display_name": "Python 3",
   "language": "python",
   "name": "python3"
  },
  "language_info": {
   "codemirror_mode": {
    "name": "ipython",
    "version": 3
   },
   "file_extension": ".py",
   "mimetype": "text/x-python",
   "name": "python",
   "nbconvert_exporter": "python",
   "pygments_lexer": "ipython3",
   "version": "3.8.10"
  },
  "orig_nbformat": 4
 },
 "nbformat": 4,
 "nbformat_minor": 2
}
